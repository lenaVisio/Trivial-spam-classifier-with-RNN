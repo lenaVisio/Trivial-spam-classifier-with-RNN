{
 "cells": [
  {
   "cell_type": "markdown",
   "metadata": {
    "id": "yW0q742o8Wiy"
   },
   "source": [
    "# Trivial spam classifier\n",
    "\n",
    "This notebook describes solution to implement a simple spam classifier using basic Recurrent Neural Network (RNN) with Long Short-Term Memory (LSTM) layers.\n",
    "\n",
    "## Acknowledgements\n",
    "\n",
    "The dataset used is from [Email Spam Detection Dataset (classification)](https://www.kaggle.com/datasets/shantanudhakadd/email-spam-detection-dataset-classification/).\n",
    "\n",
    "## Prerequisites\n",
    "* Data is available locally as specified by `data_path`.\n",
    "* Install required packages.\n",
    "* Import required libraries."
   ]
  },
  {
   "cell_type": "code",
   "execution_count": null,
   "metadata": {},
   "outputs": [],
   "source": [
    "pip install tensorflow"
   ]
  },
  {
   "cell_type": "code",
   "execution_count": null,
   "metadata": {},
   "outputs": [],
   "source": [
    "import numpy as np\n",
    "import pandas as pd\n",
    "import matplotlib.pyplot as plt\n",
    "\n",
    "from sklearn.model_selection import train_test_split\n",
    "from sklearn.utils import shuffle\n",
    "from tensorflow.keras.preprocessing.text import Tokenizer\n",
    "from tensorflow.keras import preprocessing\n",
    "from tensorflow.keras.models import Sequential\n",
    "from tensorflow.keras.layers import Embedding, LSTM, Dense"
   ]
  },
  {
   "cell_type": "markdown",
   "metadata": {
    "id": "ldufegv4z152"
   },
   "source": [
    "## Data preparation\n",
    "Load the dataset and shuffle the data. This is done to randomize the order of the rows, which can be useful when preparing data for training to avoid any bias introduced by the original order of the data."
   ]
  },
  {
   "cell_type": "code",
   "execution_count": 7,
   "metadata": {
    "_cell_guid": "79c7e3d0-c299-4dcb-8224-4455121ee9b0",
    "_uuid": "d629ff2d2480ee46fbb7e2d37f6b5fab8052498a",
    "colab": {
     "base_uri": "https://localhost:8080/",
     "height": 206
    },
    "executionInfo": {
     "elapsed": 296,
     "status": "ok",
     "timestamp": 1719735942133,
     "user": {
      "displayName": "Elena Mercep",
      "userId": "05812123810542440960"
     },
     "user_tz": -120
    },
    "id": "CVm_00TagpGc",
    "outputId": "0d4339f3-b4b3-44f6-a45b-ca624fbb5da2"
   },
   "outputs": [
    {
     "data": {
      "text/html": [
       "<div>\n",
       "<style scoped>\n",
       "    .dataframe tbody tr th:only-of-type {\n",
       "        vertical-align: middle;\n",
       "    }\n",
       "\n",
       "    .dataframe tbody tr th {\n",
       "        vertical-align: top;\n",
       "    }\n",
       "\n",
       "    .dataframe thead th {\n",
       "        text-align: right;\n",
       "    }\n",
       "</style>\n",
       "<table border=\"1\" class=\"dataframe\">\n",
       "  <thead>\n",
       "    <tr style=\"text-align: right;\">\n",
       "      <th></th>\n",
       "      <th>email</th>\n",
       "      <th>label</th>\n",
       "    </tr>\n",
       "  </thead>\n",
       "  <tbody>\n",
       "    <tr>\n",
       "      <th>2836</th>\n",
       "      <td>1's reach home call me.</td>\n",
       "      <td>0</td>\n",
       "    </tr>\n",
       "    <tr>\n",
       "      <th>2150</th>\n",
       "      <td>The table's occupied, I'm waiting by the tree</td>\n",
       "      <td>0</td>\n",
       "    </tr>\n",
       "    <tr>\n",
       "      <th>2182</th>\n",
       "      <td>PS U no ur a grown up now right?</td>\n",
       "      <td>0</td>\n",
       "    </tr>\n",
       "    <tr>\n",
       "      <th>3015</th>\n",
       "      <td>&amp;lt;#&amp;gt;  is fast approaching. So, Wish u a v...</td>\n",
       "      <td>0</td>\n",
       "    </tr>\n",
       "    <tr>\n",
       "      <th>3700</th>\n",
       "      <td>Shall i get my pouch?</td>\n",
       "      <td>0</td>\n",
       "    </tr>\n",
       "  </tbody>\n",
       "</table>\n",
       "</div>"
      ],
      "text/plain": [
       "                                                  email  label\n",
       "2836                            1's reach home call me.      0\n",
       "2150      The table's occupied, I'm waiting by the tree      0\n",
       "2182                   PS U no ur a grown up now right?      0\n",
       "3015  &lt;#&gt;  is fast approaching. So, Wish u a v...      0\n",
       "3700                              Shall i get my pouch?      0"
      ]
     },
     "execution_count": 7,
     "metadata": {},
     "output_type": "execute_result"
    }
   ],
   "source": [
    "data_path = 'spam_or_not_spam.csv'\n",
    "data = pd.read_csv(data_path)\n",
    "data = shuffle(data)\n",
    "data.head()"
   ]
  },
  {
   "cell_type": "code",
   "execution_count": 8,
   "metadata": {
    "colab": {
     "base_uri": "https://localhost:8080/"
    },
    "executionInfo": {
     "elapsed": 263,
     "status": "ok",
     "timestamp": 1719735947644,
     "user": {
      "displayName": "Elena Mercep",
      "userId": "05812123810542440960"
     },
     "user_tz": -120
    },
    "id": "I2zajjyfP8LC",
    "outputId": "992571ce-fc41-4c1c-c8f8-01a7a99068d9"
   },
   "outputs": [
    {
     "name": "stdout",
     "output_type": "stream",
     "text": [
      "<class 'pandas.core.frame.DataFrame'>\n",
      "Index: 5572 entries, 2836 to 4121\n",
      "Data columns (total 2 columns):\n",
      " #   Column  Non-Null Count  Dtype \n",
      "---  ------  --------------  ----- \n",
      " 0   email   5571 non-null   object\n",
      " 1   label   5572 non-null   int64 \n",
      "dtypes: int64(1), object(1)\n",
      "memory usage: 130.6+ KB\n"
     ]
    }
   ],
   "source": [
    "data.info()"
   ]
  },
  {
   "cell_type": "code",
   "execution_count": 9,
   "metadata": {
    "colab": {
     "base_uri": "https://localhost:8080/",
     "height": 175
    },
    "executionInfo": {
     "elapsed": 245,
     "status": "ok",
     "timestamp": 1719736035911,
     "user": {
      "displayName": "Elena Mercep",
      "userId": "05812123810542440960"
     },
     "user_tz": -120
    },
    "id": "F1xsK87rQUvI",
    "outputId": "7c19182f-de20-4101-cbc7-59d731767ee4"
   },
   "outputs": [
    {
     "data": {
      "text/html": [
       "<div>\n",
       "<style scoped>\n",
       "    .dataframe tbody tr th:only-of-type {\n",
       "        vertical-align: middle;\n",
       "    }\n",
       "\n",
       "    .dataframe tbody tr th {\n",
       "        vertical-align: top;\n",
       "    }\n",
       "\n",
       "    .dataframe thead tr th {\n",
       "        text-align: left;\n",
       "    }\n",
       "\n",
       "    .dataframe thead tr:last-of-type th {\n",
       "        text-align: right;\n",
       "    }\n",
       "</style>\n",
       "<table border=\"1\" class=\"dataframe\">\n",
       "  <thead>\n",
       "    <tr>\n",
       "      <th></th>\n",
       "      <th colspan=\"4\" halign=\"left\">email</th>\n",
       "    </tr>\n",
       "    <tr>\n",
       "      <th></th>\n",
       "      <th>count</th>\n",
       "      <th>unique</th>\n",
       "      <th>top</th>\n",
       "      <th>freq</th>\n",
       "    </tr>\n",
       "    <tr>\n",
       "      <th>label</th>\n",
       "      <th></th>\n",
       "      <th></th>\n",
       "      <th></th>\n",
       "      <th></th>\n",
       "    </tr>\n",
       "  </thead>\n",
       "  <tbody>\n",
       "    <tr>\n",
       "      <th>0</th>\n",
       "      <td>4824</td>\n",
       "      <td>4510</td>\n",
       "      <td>Sorry, I'll call later</td>\n",
       "      <td>30</td>\n",
       "    </tr>\n",
       "    <tr>\n",
       "      <th>1</th>\n",
       "      <td>747</td>\n",
       "      <td>653</td>\n",
       "      <td>Please call our customer service representativ...</td>\n",
       "      <td>4</td>\n",
       "    </tr>\n",
       "  </tbody>\n",
       "</table>\n",
       "</div>"
      ],
      "text/plain": [
       "      email                                                               \n",
       "      count unique                                                top freq\n",
       "label                                                                     \n",
       "0      4824   4510                             Sorry, I'll call later   30\n",
       "1       747    653  Please call our customer service representativ...    4"
      ]
     },
     "execution_count": 9,
     "metadata": {},
     "output_type": "execute_result"
    }
   ],
   "source": [
    "data.groupby('label').describe()"
   ]
  },
  {
   "cell_type": "markdown",
   "metadata": {
    "id": "b2Jhktft0f5g"
   },
   "source": [
    "Iterate over each row in the DataFrame and convert the content of the 'email' column to a string."
   ]
  },
  {
   "cell_type": "code",
   "execution_count": 10,
   "metadata": {
    "colab": {
     "base_uri": "https://localhost:8080/"
    },
    "executionInfo": {
     "elapsed": 1974,
     "status": "ok",
     "timestamp": 1719731920562,
     "user": {
      "displayName": "Elena Mercep",
      "userId": "05812123810542440960"
     },
     "user_tz": -120
    },
    "id": "Acg3i4RqgpGe",
    "outputId": "4997565d-1212-4643-f397-8fed65031054"
   },
   "outputs": [
    {
     "name": "stdout",
     "output_type": "stream",
     "text": [
      "Total number of emails: 5572\n"
     ]
    }
   ],
   "source": [
    "data['label'].value_counts()\n",
    "email_text = []\n",
    "\n",
    "for index, rows in data.iterrows():\n",
    "    email_single = str(rows.email)\n",
    "    email_text.append(email_single)\n",
    "print(f'Total number of emails: {len(email_text)}')"
   ]
  },
  {
   "cell_type": "markdown",
   "metadata": {
    "id": "bNhn-NlD1IkW"
   },
   "source": [
    "Prepare your text data for a text classification ML model. Tokenize the text data using the Tokenizer class, which is typically used in natural language processing (NLP) tasks."
   ]
  },
  {
   "cell_type": "code",
   "execution_count": 11,
   "metadata": {
    "executionInfo": {
     "elapsed": 837,
     "status": "ok",
     "timestamp": 1719734727017,
     "user": {
      "displayName": "Elena Mercep",
      "userId": "05812123810542440960"
     },
     "user_tz": -120
    },
    "id": "pGMVYNr-gpGf"
   },
   "outputs": [],
   "source": [
    "label = list(data['label'])  # Extract the 'label' column as a list.\n",
    "tokenizer = Tokenizer(num_words = 1000)  # Create an instance of the Tokenizer class with a vocabulary size of 1000.\n",
    "tokenizer.fit_on_texts(email_text)  # Fit the tokenizer on the 'email_text' data.\n",
    "sequences = tokenizer.texts_to_sequences(email_text)  # Convert the 'email_text' data into sequences of integers."
   ]
  },
  {
   "cell_type": "markdown",
   "metadata": {
    "id": "y4A3N2Du2TTa"
   },
   "source": [
    "Split the data into training and testing sets. Pad the sequences to ensure they all have the same length. In text data, it's common to pad or truncate sequences to a fixed length before feeding them into a neural network."
   ]
  },
  {
   "cell_type": "code",
   "execution_count": 12,
   "metadata": {
    "executionInfo": {
     "elapsed": 265,
     "status": "ok",
     "timestamp": 1719732325240,
     "user": {
      "displayName": "Elena Mercep",
      "userId": "05812123810542440960"
     },
     "user_tz": -120
    },
    "id": "YfMEE5yygpGg"
   },
   "outputs": [],
   "source": [
    "x_train, x_test, y_train, y_test = train_test_split(sequences, label, test_size=0.2, random_state=42)\n",
    "\n",
    "maxlen = 20\n",
    "x_train = np.array(preprocessing.sequence.pad_sequences(x_train, maxlen=maxlen))\n",
    "x_test = np.array(preprocessing.sequence.pad_sequences(x_test, maxlen=maxlen))\n",
    "\n",
    "y_train = np.array(y_train)\n",
    "y_test = np.array(y_test)"
   ]
  },
  {
   "cell_type": "code",
   "execution_count": 13,
   "metadata": {},
   "outputs": [
    {
     "data": {
      "text/plain": [
       "(4457, 20)"
      ]
     },
     "execution_count": 13,
     "metadata": {},
     "output_type": "execute_result"
    }
   ],
   "source": [
    "x_train.shape"
   ]
  },
  {
   "cell_type": "markdown",
   "metadata": {
    "id": "yhfcdJEx8PdP"
   },
   "source": [
    "## Model implementation\n",
    "Let's initilize a sequential model using Keras, where you can add layers one by one in sequence.\n",
    "* First, add an Embedding layer to the model. It is often used for handling text data or categorical data where there is a need to convert integer-encoded representations of words or categories into dense vectors of fixed size.\n",
    "\n",
    "* Then, add a Long Short-Term Memory (LSTM) layer with 32 units to the model. It is a type of recurrent neural network (RNN) layer. It is used for handling sequential data, capturing dependencies over time.\n",
    "\n",
    "* And lastly, add a dense layer with a single unit and a sigmoid activation function. It is a fully connected layer, where each neuron in the layer is connected to every neuron in the previous layer. In our case `1` indicates that the output is a single scalar value (binary classification).\n",
    "\n",
    "Then complile the model with the parameters:\n",
    "* `rmsprop` optimization algorithm used during training (Root Mean Square Propagation adapts the learning rates of each parameter individually)\n",
    "* `binary_crossentropy` loss function (well-suited for binary classification problems where each example belongs to only one of the two classes)\n",
    "* `acc` metric used to evaluate the performance of the model during training (accuracy measures the proportion of correctly classified examples out of the total number of examples)."
   ]
  },
  {
   "cell_type": "code",
   "execution_count": null,
   "metadata": {
    "colab": {
     "base_uri": "https://localhost:8080/"
    },
    "executionInfo": {
     "elapsed": 677,
     "status": "ok",
     "timestamp": 1719732329283,
     "user": {
      "displayName": "Elena Mercep",
      "userId": "05812123810542440960"
     },
     "user_tz": -120
    },
    "id": "uGUgKY24gpGh",
    "outputId": "26ff77a5-99ad-46b1-e4e7-9d5d4d2baf29"
   },
   "outputs": [],
   "source": [
    "model_lstm = Sequential()\n",
    "model_lstm.add(Embedding(2000, 8, input_length=maxlen))\n",
    "model_lstm.add(LSTM(32))\n",
    "model_lstm.add(Dense(1, activation='sigmoid'))\n",
    "model_lstm.compile(optimizer='rmsprop', loss='binary_crossentropy', metrics=['acc'])\n",
    "model_lstm.summary()"
   ]
  },
  {
   "cell_type": "markdown",
   "metadata": {
    "id": "KkyiNwm4BvEb"
   },
   "source": [
    "## Model training\n",
    "\n",
    "To train out model, we specify the parameters:\n",
    "\n",
    "* Epochs: how many times the model will iterate over the entire training dataset.\n",
    "* Batch size: the number of samples in each batch, or sub-division of the training data after processing which the model weights are updated.\n",
    "* Validation split: the portion of the training data that will be used for validation (e.g., 20% of the training data)."
   ]
  },
  {
   "cell_type": "code",
   "execution_count": 15,
   "metadata": {
    "colab": {
     "base_uri": "https://localhost:8080/"
    },
    "executionInfo": {
     "elapsed": 21524,
     "status": "ok",
     "timestamp": 1719732353421,
     "user": {
      "displayName": "Elena Mercep",
      "userId": "05812123810542440960"
     },
     "user_tz": -120
    },
    "id": "xvHSvksvBvr_",
    "outputId": "8148de31-f57a-4303-c1b0-7fedcd52a751"
   },
   "outputs": [
    {
     "name": "stdout",
     "output_type": "stream",
     "text": [
      "Epoch 1/10\n",
      "\u001b[1m112/112\u001b[0m \u001b[32m━━━━━━━━━━━━━━━━━━━━\u001b[0m\u001b[37m\u001b[0m \u001b[1m3s\u001b[0m 8ms/step - acc: 0.8721 - loss: 0.3870 - val_acc: 0.9473 - val_loss: 0.1743\n",
      "Epoch 2/10\n",
      "\u001b[1m112/112\u001b[0m \u001b[32m━━━━━━━━━━━━━━━━━━━━\u001b[0m\u001b[37m\u001b[0m \u001b[1m1s\u001b[0m 6ms/step - acc: 0.9638 - loss: 0.1383 - val_acc: 0.9843 - val_loss: 0.0749\n",
      "Epoch 3/10\n",
      "\u001b[1m112/112\u001b[0m \u001b[32m━━━━━━━━━━━━━━━━━━━━\u001b[0m\u001b[37m\u001b[0m \u001b[1m1s\u001b[0m 6ms/step - acc: 0.9810 - loss: 0.0657 - val_acc: 0.9753 - val_loss: 0.0876\n",
      "Epoch 4/10\n",
      "\u001b[1m112/112\u001b[0m \u001b[32m━━━━━━━━━━━━━━━━━━━━\u001b[0m\u001b[37m\u001b[0m \u001b[1m1s\u001b[0m 7ms/step - acc: 0.9861 - loss: 0.0559 - val_acc: 0.9865 - val_loss: 0.0493\n",
      "Epoch 5/10\n",
      "\u001b[1m112/112\u001b[0m \u001b[32m━━━━━━━━━━━━━━━━━━━━\u001b[0m\u001b[37m\u001b[0m \u001b[1m2s\u001b[0m 12ms/step - acc: 0.9876 - loss: 0.0468 - val_acc: 0.9877 - val_loss: 0.0477\n",
      "Epoch 6/10\n",
      "\u001b[1m112/112\u001b[0m \u001b[32m━━━━━━━━━━━━━━━━━━━━\u001b[0m\u001b[37m\u001b[0m \u001b[1m1s\u001b[0m 7ms/step - acc: 0.9879 - loss: 0.0414 - val_acc: 0.9899 - val_loss: 0.0503\n",
      "Epoch 7/10\n",
      "\u001b[1m112/112\u001b[0m \u001b[32m━━━━━━━━━━━━━━━━━━━━\u001b[0m\u001b[37m\u001b[0m \u001b[1m1s\u001b[0m 7ms/step - acc: 0.9858 - loss: 0.0492 - val_acc: 0.9899 - val_loss: 0.0431\n",
      "Epoch 8/10\n",
      "\u001b[1m112/112\u001b[0m \u001b[32m━━━━━━━━━━━━━━━━━━━━\u001b[0m\u001b[37m\u001b[0m \u001b[1m1s\u001b[0m 7ms/step - acc: 0.9866 - loss: 0.0440 - val_acc: 0.9910 - val_loss: 0.0409\n",
      "Epoch 9/10\n",
      "\u001b[1m112/112\u001b[0m \u001b[32m━━━━━━━━━━━━━━━━━━━━\u001b[0m\u001b[37m\u001b[0m \u001b[1m1s\u001b[0m 7ms/step - acc: 0.9883 - loss: 0.0453 - val_acc: 0.9910 - val_loss: 0.0422\n",
      "Epoch 10/10\n",
      "\u001b[1m112/112\u001b[0m \u001b[32m━━━━━━━━━━━━━━━━━━━━\u001b[0m\u001b[37m\u001b[0m \u001b[1m1s\u001b[0m 7ms/step - acc: 0.9942 - loss: 0.0246 - val_acc: 0.9910 - val_loss: 0.0424\n"
     ]
    }
   ],
   "source": [
    "history_lstm = model_lstm.fit(x_train, y_train,\n",
    "                    epochs=10,\n",
    "                    batch_size=32,\n",
    "                    validation_split=0.2)"
   ]
  },
  {
   "cell_type": "markdown",
   "metadata": {
    "id": "Uap0hU4zDJtT"
   },
   "source": [
    "## Learning curves\n",
    "\n",
    "Once the training is done, we can look at the learning curves.\n",
    "\n",
    "### Training loss\n",
    "Represents the value of the loss function on the training dataset.\n",
    "\n",
    "**Interpretation**: A decreasing training loss suggests that the model is improving its ability to fit the training data. If the training loss remains high and doesn't decrease significantly over epochs, it indicates that the model is struggling to fit the training data. This could be a sign of underfitting (also known as **high bias**).\n",
    "\n",
    "### Validation loss\n",
    "Represents the value of the loss function on a separate validation dataset not used during training.\n",
    "\n",
    "**Interpretation**: If the training loss is decreasing but the validation loss is increasing or not decreasing, it could be a sign of overfitting (also known as **high variance**). Overfitting occurs when the model learns to perform well on the training data but fails to generalize to new data.\n",
    "\n",
    "### Training accuracy\n",
    "Represents the accuracy of the model on the training dataset. It indicates the proportion of correctly classified samples in the training data.\n",
    "\n",
    "**Interpretation**: Increasing training accuracy is a positive sign, but high training accuracy alone does not guarantee good generalization. It's possible for a model to memorize the training data without truly learning the underlying patterns.\n",
    "\n",
    "### Validation accuracy\n",
    "Represents the accuracy of the model on the validation dataset. It helps assess how well the model generalizes to new data not seen during training.\n",
    "\n",
    "**Interpretation**: Similar to validation loss, if the training accuracy is high but the validation accuracy is significantly lower or not improving, it may indicate overfitting.\n"
   ]
  },
  {
   "cell_type": "code",
   "execution_count": 16,
   "metadata": {
    "colab": {
     "base_uri": "https://localhost:8080/",
     "height": 607
    },
    "executionInfo": {
     "elapsed": 1088,
     "status": "ok",
     "timestamp": 1719732357861,
     "user": {
      "displayName": "Elena Mercep",
      "userId": "05812123810542440960"
     },
     "user_tz": -120
    },
    "id": "paP0jUlJDL4n",
    "outputId": "8e057021-8351-4ce4-b19b-301d8faa1e7e"
   },
   "outputs": [
    {
     "data": {
      "image/png": "[encoded data removed]",
      "text/plain": [
       "<Figure size 1200x600 with 2 Axes>"
      ]
     },
     "metadata": {},
     "output_type": "display_data"
    }
   ],
   "source": [
    "# Get training and validation loss values from the history object.\n",
    "train_loss = history_lstm.history['loss']\n",
    "val_loss = history_lstm.history['val_loss']\n",
    "\n",
    "# Get training and validation accuracy values from the history object.\n",
    "train_acc = history_lstm.history.get('acc', [])\n",
    "val_acc = history_lstm.history.get('val_acc', [])\n",
    "\n",
    "plt.figure(figsize=(12, 6))\n",
    "\n",
    "# Plot training loss.\n",
    "plt.subplot(1, 2, 1)\n",
    "plt.plot(range(1, len(train_loss) + 1), train_loss, label='Training Loss')\n",
    "plt.plot(range(1, len(val_loss) + 1), val_loss, label='Validation Loss')\n",
    "plt.title('Training and Validation Loss')\n",
    "plt.xlabel('Epochs')\n",
    "plt.ylabel('Loss')\n",
    "plt.legend()\n",
    "\n",
    "# Plot the training and validation accuracy.\n",
    "if train_acc and val_acc:\n",
    "    plt.subplot(1, 2, 2)\n",
    "    plt.plot(range(1, len(train_acc) + 1), train_acc, label='Training Accuracy')\n",
    "    plt.plot(range(1, len(val_acc) + 1), val_acc, label='Validation Accuracy')\n",
    "    plt.title('Training and Validation Accuracy')\n",
    "    plt.xlabel('Epochs')\n",
    "    plt.ylabel('Accuracy')\n",
    "    plt.legend()\n",
    "\n",
    "plt.tight_layout()\n",
    "plt.show()\n"
   ]
  },
  {
   "cell_type": "markdown",
   "metadata": {
    "id": "bfrrCr0uC4lF"
   },
   "source": [
    "## Summary\n",
    "\n",
    "* **Initial Learning**: In the first few epochs, both the training and validation loss decrease, and both accuracies increase, indicating that the model is learning effectively from the training data.\n",
    "* **Overfitting Signs**: After some epochs, the validation loss begins to increase, and the validation accuracy plateaus or slightly decreases. This divergence between training and validation performance suggests that the model might be overfitting the training data."
   ]
  },
  {
   "cell_type": "markdown",
   "metadata": {
    "id": "fPQ3zrYfIFgu"
   },
   "source": [
    "## Fixing high bias / high variance\n",
    "\n",
    "At this point I want to insert a nice summary from the [Andrew Ng Machine Learning course](https://www.coursera.org/specializations/machine-learning-introduction?utm_medium=sem&utm_source=gg&utm_campaign=B2C_EMEA_machine-learning-introduction_stanford_FTCOF_specializations_country-multiple-set1&campaignid=20858198833&adgroupid=156245838629&device=c&keyword=andrew%20ng%20machine%20learning&matchtype=p&network=g&devicemodel=&adposition=&creativeid=684249172051&hide_mobile_promo&gad_source=1&gclid=Cj0KCQiAnrOtBhDIARIsAFsSe51HA3UifJdlZAt_9vYGzmb3xWMwz6qwdXEGs4cJiGil-AsCWGQG52kaAmkcEALw_wcB) on the practical approaches to fixing high bias / high variances and model effects.\n",
    "\n",
    "* Getting more training examples: Fixes high variance\n",
    "* Trying smaller sets of features: Fixes high variance\n",
    "* Adding features: Fixes high bias\n",
    "* Adding polynomial features: Fixes high bias\n",
    "* Decreasing λ: Fixes high bias\n",
    "* Increasing λ: Fixes high variance\n",
    "\n",
    "### Diagnosing neural networks\n",
    "\n",
    "* A neural network with fewer parameters is prone to underfitting. It is also computationally cheaper.\n",
    "* A large neural network with more parameters is prone to overfitting. It is also computationally expensive. In this case you can use regularization (increase λ) to address the overfitting.\n",
    "\n",
    "Using a single hidden layer is a good starting default. You can train your neural network on a number of hidden layers using your cross validation set. You can then select the one that performs best.\n",
    "\n",
    "### Model complexity effects\n",
    "\n",
    "* Lower-order polynomials (low model complexity) have high bias and low variance. In this case, the model fits poorly consistently.\n",
    "\n",
    "* Higher-order polynomials (high model complexity) fit the training data extremely well and the test data extremely poorly. These have low bias on the training data, but very high variance.\n",
    "\n",
    "* In reality, we would want to choose a model somewhere in between, that can generalize well but also fits the data reasonably well.\n"
   ]
  },
  {
   "cell_type": "markdown",
   "metadata": {
    "id": "HubTyTUTI56n"
   },
   "source": [
    "## Model evaluation\n",
    "\n",
    "Now let's assess the performance of the trained model on a test dataset."
   ]
  },
  {
   "cell_type": "code",
   "execution_count": 17,
   "metadata": {
    "colab": {
     "base_uri": "https://localhost:8080/"
    },
    "executionInfo": {
     "elapsed": 304,
     "status": "ok",
     "timestamp": 1719732595040,
     "user": {
      "displayName": "Elena Mercep",
      "userId": "05812123810542440960"
     },
     "user_tz": -120
    },
    "id": "KUt96rjYgpGi",
    "outputId": "543475e2-173a-4b82-f3f5-a876aff06b97"
   },
   "outputs": [
    {
     "name": "stdout",
     "output_type": "stream",
     "text": [
      "\u001b[1m35/35\u001b[0m \u001b[32m━━━━━━━━━━━━━━━━━━━━\u001b[0m\u001b[37m\u001b[0m \u001b[1m0s\u001b[0m 3ms/step - acc: 0.9934 - loss: 0.0216\n",
      "test loss:0.029074277728796005\n",
      "test accuracy:0.9919282793998718\n"
     ]
    }
   ],
   "source": [
    "result=model_lstm.evaluate(x_test,y_test)\n",
    "print(\"test loss:{}\\ntest accuracy:{}\".format(result[0],result[1]))"
   ]
  },
  {
   "cell_type": "markdown",
   "metadata": {
    "id": "bH8fl8g7K27E"
   },
   "source": [
    "**Test loss**: represents the difference between the model's predictions and the actual labels on the test data. In this case it is relatively low.\n",
    "\n",
    "**Test accuracy**: measures the proportion of correctly classified examples in the test dataset."
   ]
  }
 ],
 "metadata": {
  "colab": {
   "provenance": []
  },
  "kernelspec": {
   "display_name": "Python 3 (ipykernel)",
   "language": "python",
   "name": "python3"
  },
  "language_info": {
   "codemirror_mode": {
    "name": "ipython",
    "version": 3
   },
   "file_extension": ".py",
   "mimetype": "text/x-python",
   "name": "python",
   "nbconvert_exporter": "python",
   "pygments_lexer": "ipython3",
   "version": "3.12.4"
  }
 },
 "nbformat": 4,
 "nbformat_minor": 4
}
